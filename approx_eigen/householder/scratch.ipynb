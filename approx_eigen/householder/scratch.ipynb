{
 "cells": [
  {
   "cell_type": "code",
   "execution_count": 1,
   "metadata": {
    "collapsed": false
   },
   "outputs": [],
   "source": [
    "import matrix_test as mt\n",
    "from __init__ import householder as hh\n",
    "import numpy as np"
   ]
  },
  {
   "cell_type": "code",
   "execution_count": 2,
   "metadata": {
    "collapsed": false
   },
   "outputs": [
    {
     "data": {
      "text/plain": [
       "array([[ 4.        ,  1.        , -2.        ,  2.34536535],\n",
       "       [ 0.        ,  2.        ,  0.        ,  1.        ],\n",
       "       [ 0.        ,  0.        ,  3.        , -2.        ],\n",
       "       [ 0.        ,  0.        ,  0.        , -1.        ]])"
      ]
     },
     "execution_count": 2,
     "metadata": {},
     "output_type": "execute_result"
    }
   ],
   "source": [
    "A = np.array([\n",
    "        [4,1,-2,2.34536535],\n",
    "        [0,2,0,1],\n",
    "        [0,0,3,-2],\n",
    "        [0,0,0,-1]\n",
    "    ])\n",
    "A"
   ]
  },
  {
   "cell_type": "code",
   "execution_count": null,
   "metadata": {
    "collapsed": true
   },
   "outputs": [],
   "source": []
  },
  {
   "cell_type": "code",
   "execution_count": 3,
   "metadata": {
    "collapsed": false,
    "scrolled": true
   },
   "outputs": [
    {
     "data": {
      "text/plain": [
       "True"
      ]
     },
     "execution_count": 3,
     "metadata": {},
     "output_type": "execute_result"
    }
   ],
   "source": [
    "mt.isSquare(A)"
   ]
  },
  {
   "cell_type": "code",
   "execution_count": 4,
   "metadata": {
    "collapsed": false
   },
   "outputs": [
    {
     "data": {
      "text/plain": [
       "True"
      ]
     },
     "execution_count": 4,
     "metadata": {},
     "output_type": "execute_result"
    }
   ],
   "source": [
    "mt.isSymmetric(A+A.T)"
   ]
  },
  {
   "cell_type": "code",
   "execution_count": 5,
   "metadata": {
    "collapsed": false
   },
   "outputs": [
    {
     "data": {
      "text/plain": [
       "True"
      ]
     },
     "execution_count": 5,
     "metadata": {},
     "output_type": "execute_result"
    }
   ],
   "source": [
    "mt.isSkewSymmetric(A+-1*A.T)"
   ]
  },
  {
   "cell_type": "code",
   "execution_count": 6,
   "metadata": {
    "collapsed": false
   },
   "outputs": [
    {
     "data": {
      "text/plain": [
       "True"
      ]
     },
     "execution_count": 6,
     "metadata": {},
     "output_type": "execute_result"
    }
   ],
   "source": [
    "mt.isLowerTriangular(A.T)"
   ]
  },
  {
   "cell_type": "code",
   "execution_count": 7,
   "metadata": {
    "collapsed": false
   },
   "outputs": [
    {
     "data": {
      "text/plain": [
       "True"
      ]
     },
     "execution_count": 7,
     "metadata": {},
     "output_type": "execute_result"
    }
   ],
   "source": [
    "mt.isUpperTriangular(A)"
   ]
  },
  {
   "cell_type": "code",
   "execution_count": 8,
   "metadata": {
    "collapsed": false
   },
   "outputs": [
    {
     "data": {
      "text/plain": [
       "array([[ 0.01231,  0.     ,  0.     ,  0.     ,  0.     ],\n",
       "       [ 0.     ,  0.01231,  0.     ,  0.     ,  0.     ],\n",
       "       [ 0.     ,  0.     ,  0.01231,  0.     ,  0.     ],\n",
       "       [ 0.     ,  0.     ,  0.     ,  0.01231,  0.     ],\n",
       "       [ 0.     ,  0.     ,  0.     ,  0.     ,  0.01231]])"
      ]
     },
     "execution_count": 8,
     "metadata": {},
     "output_type": "execute_result"
    }
   ],
   "source": [
    "B = np.zeros((5,5))\n",
    "np.fill_diagonal(B,0.01231)\n",
    "\n",
    "B"
   ]
  },
  {
   "cell_type": "code",
   "execution_count": 9,
   "metadata": {
    "collapsed": false
   },
   "outputs": [
    {
     "data": {
      "text/plain": [
       "True"
      ]
     },
     "execution_count": 9,
     "metadata": {},
     "output_type": "execute_result"
    }
   ],
   "source": [
    "mt.isDiagonal(B)"
   ]
  },
  {
   "cell_type": "code",
   "execution_count": null,
   "metadata": {
    "collapsed": true
   },
   "outputs": [],
   "source": []
  },
  {
   "cell_type": "code",
   "execution_count": 10,
   "metadata": {
    "collapsed": false
   },
   "outputs": [
    {
     "name": "stdout",
     "output_type": "stream",
     "text": [
      "Note: Input matrix is not symmetric.\n"
     ]
    },
    {
     "data": {
      "text/plain": [
       "array([[[ 12.      ,   2.      ,  -4.      ,   4.690731],\n",
       "        [  1.      ,   6.      ,   0.      ,   2.      ],\n",
       "        [ -2.      ,   0.      ,   9.      ,  -4.      ],\n",
       "        [  2.345365,   1.      ,  -2.      ,  -3.      ]],\n",
       "\n",
       "       [[ 12.      ,  -6.480969,   0.      ,  -0.      ],\n",
       "        [ -3.240484,   5.778476,   3.062234,   3.705758],\n",
       "        [  0.      ,   4.168412,   5.638985,  -2.556795],\n",
       "        [ -0.      ,   5.649047,  -2.556795,   0.582539]],\n",
       "\n",
       "       [[ 12.      ,  -6.480969,   0.      ,  -0.      ],\n",
       "        [ -3.240484,   5.778476,  -4.800038,  -0.263738],\n",
       "        [  0.      ,  -7.020498,  -0.077944,   1.661707],\n",
       "        [ -0.      ,   0.      ,   1.661707,   6.299468]]])"
      ]
     },
     "execution_count": 10,
     "metadata": {},
     "output_type": "execute_result"
    }
   ],
   "source": [
    "hh(A+A.T+A,returnAll=True)"
   ]
  },
  {
   "cell_type": "code",
   "execution_count": null,
   "metadata": {
    "collapsed": true
   },
   "outputs": [],
   "source": []
  }
 ],
 "metadata": {
  "kernelspec": {
   "display_name": "Python 3",
   "language": "python",
   "name": "python3"
  },
  "language_info": {
   "codemirror_mode": {
    "name": "ipython",
    "version": 3
   },
   "file_extension": ".py",
   "mimetype": "text/x-python",
   "name": "python",
   "nbconvert_exporter": "python",
   "pygments_lexer": "ipython3",
   "version": "3.5.1"
  }
 },
 "nbformat": 4,
 "nbformat_minor": 0
}
