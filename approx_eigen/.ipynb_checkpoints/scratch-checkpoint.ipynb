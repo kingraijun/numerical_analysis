{
 "cells": [
  {
   "cell_type": "code",
   "execution_count": 1,
   "metadata": {
    "collapsed": false
   },
   "outputs": [],
   "source": [
    "import matrix_test as mt\n",
    "from __init__ import *\n",
    "import numpy as np\n",
    "import pandas as pd"
   ]
  },
  {
   "cell_type": "code",
   "execution_count": 2,
   "metadata": {
    "collapsed": false
   },
   "outputs": [
    {
     "data": {
      "text/plain": [
       "array([[ 4.        ,  1.        , -2.        ,  2.34536535],\n",
       "       [ 0.        ,  2.        ,  0.        ,  1.        ],\n",
       "       [ 0.        ,  0.        ,  3.        , -2.        ],\n",
       "       [ 0.        ,  0.        ,  0.        , -1.        ]])"
      ]
     },
     "execution_count": 2,
     "metadata": {},
     "output_type": "execute_result"
    }
   ],
   "source": [
    "A = np.array([\n",
    "        [4,1,-2,2.34536535],\n",
    "        [0,2,0,1],\n",
    "        [0,0,3,-2],\n",
    "        [0,0,0,-1]\n",
    "    ])\n",
    "A"
   ]
  },
  {
   "cell_type": "code",
   "execution_count": 3,
   "metadata": {
    "collapsed": false,
    "scrolled": true
   },
   "outputs": [
    {
     "data": {
      "text/plain": [
       "True"
      ]
     },
     "execution_count": 3,
     "metadata": {},
     "output_type": "execute_result"
    }
   ],
   "source": [
    "mt.isSquare(A)"
   ]
  },
  {
   "cell_type": "code",
   "execution_count": 4,
   "metadata": {
    "collapsed": false
   },
   "outputs": [
    {
     "data": {
      "text/plain": [
       "True"
      ]
     },
     "execution_count": 4,
     "metadata": {},
     "output_type": "execute_result"
    }
   ],
   "source": [
    "mt.isSymmetric(A+A.T)"
   ]
  },
  {
   "cell_type": "code",
   "execution_count": 5,
   "metadata": {
    "collapsed": false
   },
   "outputs": [
    {
     "data": {
      "text/plain": [
       "True"
      ]
     },
     "execution_count": 5,
     "metadata": {},
     "output_type": "execute_result"
    }
   ],
   "source": [
    "mt.isSkewSymmetric(A+-1*A.T)"
   ]
  },
  {
   "cell_type": "code",
   "execution_count": 6,
   "metadata": {
    "collapsed": false
   },
   "outputs": [
    {
     "data": {
      "text/plain": [
       "True"
      ]
     },
     "execution_count": 6,
     "metadata": {},
     "output_type": "execute_result"
    }
   ],
   "source": [
    "mt.isLowerTriangular(A.T)"
   ]
  },
  {
   "cell_type": "code",
   "execution_count": 7,
   "metadata": {
    "collapsed": false
   },
   "outputs": [
    {
     "data": {
      "text/plain": [
       "True"
      ]
     },
     "execution_count": 7,
     "metadata": {},
     "output_type": "execute_result"
    }
   ],
   "source": [
    "mt.isUpperTriangular(A)"
   ]
  },
  {
   "cell_type": "code",
   "execution_count": 8,
   "metadata": {
    "collapsed": false
   },
   "outputs": [
    {
     "data": {
      "text/plain": [
       "array([[ 0.01231,  0.     ,  0.     ,  0.     ,  0.     ],\n",
       "       [ 0.     ,  0.01231,  0.     ,  0.     ,  0.     ],\n",
       "       [ 0.     ,  0.     ,  0.01231,  0.     ,  0.     ],\n",
       "       [ 0.     ,  0.     ,  0.     ,  0.01231,  0.     ],\n",
       "       [ 0.     ,  0.     ,  0.     ,  0.     ,  0.01231]])"
      ]
     },
     "execution_count": 8,
     "metadata": {},
     "output_type": "execute_result"
    }
   ],
   "source": [
    "B = np.zeros((5,5))\n",
    "np.fill_diagonal(B,0.01231)\n",
    "\n",
    "B"
   ]
  },
  {
   "cell_type": "code",
   "execution_count": 9,
   "metadata": {
    "collapsed": false
   },
   "outputs": [
    {
     "data": {
      "text/plain": [
       "True"
      ]
     },
     "execution_count": 9,
     "metadata": {},
     "output_type": "execute_result"
    }
   ],
   "source": [
    "mt.isDiagonal(B)"
   ]
  },
  {
   "cell_type": "code",
   "execution_count": null,
   "metadata": {
    "collapsed": true
   },
   "outputs": [],
   "source": []
  },
  {
   "cell_type": "markdown",
   "metadata": {},
   "source": [
    "## Test the Householder"
   ]
  },
  {
   "cell_type": "code",
   "execution_count": 10,
   "metadata": {
    "collapsed": true
   },
   "outputs": [],
   "source": [
    "import numpy as np\n",
    "from __init__ import householder"
   ]
  },
  {
   "cell_type": "code",
   "execution_count": 11,
   "metadata": {
    "collapsed": false
   },
   "outputs": [],
   "source": [
    "A = np.array([\n",
    "        [4,1,-2,2],\n",
    "        [0,2,0,1],\n",
    "        [0,0,3,-2],\n",
    "        [0,0,0,-1]\n",
    "    ])"
   ]
  },
  {
   "cell_type": "code",
   "execution_count": 12,
   "metadata": {
    "collapsed": false
   },
   "outputs": [
    {
     "name": "stdout",
     "output_type": "stream",
     "text": [
      "Note: Input matrix is not symmetric.\n"
     ]
    },
    {
     "data": {
      "text/plain": [
       "array([[[ 12.      ,   2.      ,  -4.      ,   4.      ],\n",
       "        [  1.      ,   6.      ,   0.      ,   2.      ],\n",
       "        [ -2.      ,   0.      ,   9.      ,  -4.      ],\n",
       "        [  2.      ,   1.      ,  -2.      ,  -3.      ]],\n",
       "\n",
       "       [[ 12.      ,  -6.      ,   0.      ,   0.      ],\n",
       "        [ -3.      ,   6.666667,   2.666667,   3.333333],\n",
       "        [  0.      ,   3.666667,   5.666667,  -2.666667],\n",
       "        [  0.      ,   5.333333,  -2.666667,  -0.333333]],\n",
       "\n",
       "       [[ 12.      ,  -6.      ,   0.      ,   0.      ],\n",
       "        [ -3.      ,   6.666667,  -4.25755 ,  -0.309016],\n",
       "        [  0.      ,  -6.472163,  -0.897436,   1.846154],\n",
       "        [  0.      ,   0.      ,   1.846154,   6.230769]]])"
      ]
     },
     "execution_count": 12,
     "metadata": {},
     "output_type": "execute_result"
    }
   ],
   "source": [
    "householder(A+A.T+A,returnAll=True)"
   ]
  },
  {
   "cell_type": "code",
   "execution_count": null,
   "metadata": {
    "collapsed": true
   },
   "outputs": [],
   "source": []
  },
  {
   "cell_type": "markdown",
   "metadata": {},
   "source": [
    "## Test the Power Method"
   ]
  },
  {
   "cell_type": "code",
   "execution_count": 13,
   "metadata": {
    "collapsed": false
   },
   "outputs": [],
   "source": [
    "import numpy as np\n",
    "from __init__ import powermethod"
   ]
  },
  {
   "cell_type": "markdown",
   "metadata": {},
   "source": [
    "### Power method"
   ]
  },
  {
   "cell_type": "code",
   "execution_count": 20,
   "metadata": {
    "collapsed": false
   },
   "outputs": [],
   "source": [
    "A = np.array([\n",
    "        [-4,14,0],\n",
    "        [-5,13,0],\n",
    "        [-1,0,2]\n",
    "    ])\n",
    "\n",
    "x = np.array([1,1,1])"
   ]
  },
  {
   "cell_type": "code",
   "execution_count": 21,
   "metadata": {
    "collapsed": false,
    "scrolled": true
   },
   "outputs": [
    {
     "name": "stdout",
     "output_type": "stream",
     "text": [
      "The maximum number of iterations (maxIter=10) reached.\n"
     ]
    },
    {
     "data": {
      "text/html": [
       "<div>\n",
       "<table border=\"1\" class=\"dataframe\">\n",
       "  <thead>\n",
       "    <tr style=\"text-align: right;\">\n",
       "      <th></th>\n",
       "      <th>Eigenvector</th>\n",
       "      <th>Eigenvalue</th>\n",
       "      <th>Eigenvalue_Aitkens</th>\n",
       "    </tr>\n",
       "  </thead>\n",
       "  <tbody>\n",
       "    <tr>\n",
       "      <th>0</th>\n",
       "      <td>[1, 1, 1]</td>\n",
       "      <td></td>\n",
       "      <td></td>\n",
       "    </tr>\n",
       "    <tr>\n",
       "      <th>1</th>\n",
       "      <td>[1.0, 0.8, 0.1]</td>\n",
       "      <td>10</td>\n",
       "      <td>0</td>\n",
       "    </tr>\n",
       "    <tr>\n",
       "      <th>2</th>\n",
       "      <td>[1.0, 0.75, -0.111111]</td>\n",
       "      <td>7.2</td>\n",
       "      <td>7.8125</td>\n",
       "    </tr>\n",
       "    <tr>\n",
       "      <th>3</th>\n",
       "      <td>[1.0, 0.730769, -0.188034]</td>\n",
       "      <td>6.5</td>\n",
       "      <td>6.26667</td>\n",
       "    </tr>\n",
       "    <tr>\n",
       "      <th>4</th>\n",
       "      <td>[1.0, 0.722222, -0.22085]</td>\n",
       "      <td>6.23077</td>\n",
       "      <td>6.0625</td>\n",
       "    </tr>\n",
       "    <tr>\n",
       "      <th>5</th>\n",
       "      <td>[1.0, 0.718182, -0.235915]</td>\n",
       "      <td>6.11111</td>\n",
       "      <td>6.01539</td>\n",
       "    </tr>\n",
       "    <tr>\n",
       "      <th>6</th>\n",
       "      <td>[1.0, 0.716216, -0.243095]</td>\n",
       "      <td>6.05455</td>\n",
       "      <td>6.00383</td>\n",
       "    </tr>\n",
       "    <tr>\n",
       "      <th>7</th>\n",
       "      <td>[1.0, 0.715247, -0.246588]</td>\n",
       "      <td>6.02703</td>\n",
       "      <td>6.00096</td>\n",
       "    </tr>\n",
       "    <tr>\n",
       "      <th>8</th>\n",
       "      <td>[1.0, 0.714765, -0.248306]</td>\n",
       "      <td>6.01345</td>\n",
       "      <td>6.00024</td>\n",
       "    </tr>\n",
       "    <tr>\n",
       "      <th>9</th>\n",
       "      <td>[1.0, 0.714525, -0.249157]</td>\n",
       "      <td>6.00671</td>\n",
       "      <td>6.00006</td>\n",
       "    </tr>\n",
       "    <tr>\n",
       "      <th>10</th>\n",
       "      <td>[1.0, 0.714405, -0.249579]</td>\n",
       "      <td>6.00335</td>\n",
       "      <td>6.00002</td>\n",
       "    </tr>\n",
       "  </tbody>\n",
       "</table>\n",
       "</div>"
      ],
      "text/plain": [
       "                   Eigenvector Eigenvalue Eigenvalue_Aitkens\n",
       "0                    [1, 1, 1]                              \n",
       "1              [1.0, 0.8, 0.1]         10                  0\n",
       "2       [1.0, 0.75, -0.111111]        7.2             7.8125\n",
       "3   [1.0, 0.730769, -0.188034]        6.5            6.26667\n",
       "4    [1.0, 0.722222, -0.22085]    6.23077             6.0625\n",
       "5   [1.0, 0.718182, -0.235915]    6.11111            6.01539\n",
       "6   [1.0, 0.716216, -0.243095]    6.05455            6.00383\n",
       "7   [1.0, 0.715247, -0.246588]    6.02703            6.00096\n",
       "8   [1.0, 0.714765, -0.248306]    6.01345            6.00024\n",
       "9   [1.0, 0.714525, -0.249157]    6.00671            6.00006\n",
       "10  [1.0, 0.714405, -0.249579]    6.00335            6.00002"
      ]
     },
     "execution_count": 21,
     "metadata": {},
     "output_type": "execute_result"
    }
   ],
   "source": [
    "powermethod.powermethod(A,x,maxIter=10)"
   ]
  },
  {
   "cell_type": "markdown",
   "metadata": {},
   "source": [
    "### Symmetric power method"
   ]
  },
  {
   "cell_type": "code",
   "execution_count": 26,
   "metadata": {
    "collapsed": true
   },
   "outputs": [],
   "source": [
    "B = np.array([\n",
    "        [4,-1,1],\n",
    "        [-1,3,-2],\n",
    "        [1,-2,3]\n",
    "    ])\n",
    "\n",
    "x = np.array([1,0,0])"
   ]
  },
  {
   "cell_type": "code",
   "execution_count": 27,
   "metadata": {
    "collapsed": false
   },
   "outputs": [
    {
     "name": "stdout",
     "output_type": "stream",
     "text": [
      "The maximum number of iterations (maxIter=10) reached.\n"
     ]
    },
    {
     "data": {
      "text/html": [
       "<div>\n",
       "<table border=\"1\" class=\"dataframe\">\n",
       "  <thead>\n",
       "    <tr style=\"text-align: right;\">\n",
       "      <th></th>\n",
       "      <th>Eigenvector</th>\n",
       "      <th>Eigenvalue</th>\n",
       "      <th>Eigenvalue_Aitkens</th>\n",
       "    </tr>\n",
       "  </thead>\n",
       "  <tbody>\n",
       "    <tr>\n",
       "      <th>0</th>\n",
       "      <td>[1, 0, 0]</td>\n",
       "      <td></td>\n",
       "      <td></td>\n",
       "    </tr>\n",
       "    <tr>\n",
       "      <th>1</th>\n",
       "      <td>[1.0, -0.25, 0.25]</td>\n",
       "      <td>4</td>\n",
       "      <td>0</td>\n",
       "    </tr>\n",
       "    <tr>\n",
       "      <th>2</th>\n",
       "      <td>[1.0, -0.5, 0.5]</td>\n",
       "      <td>4.5</td>\n",
       "      <td>4.57143</td>\n",
       "    </tr>\n",
       "    <tr>\n",
       "      <th>3</th>\n",
       "      <td>[1.0, -0.7, 0.7]</td>\n",
       "      <td>5</td>\n",
       "      <td>-inf</td>\n",
       "    </tr>\n",
       "    <tr>\n",
       "      <th>4</th>\n",
       "      <td>[1.0, -0.833333, 0.833333]</td>\n",
       "      <td>5.4</td>\n",
       "      <td>7</td>\n",
       "    </tr>\n",
       "    <tr>\n",
       "      <th>5</th>\n",
       "      <td>[1.0, -0.911765, 0.911765]</td>\n",
       "      <td>5.66667</td>\n",
       "      <td>6.2</td>\n",
       "    </tr>\n",
       "    <tr>\n",
       "      <th>6</th>\n",
       "      <td>[1.0, -0.954545, 0.954545]</td>\n",
       "      <td>5.82353</td>\n",
       "      <td>6.04762</td>\n",
       "    </tr>\n",
       "    <tr>\n",
       "      <th>7</th>\n",
       "      <td>[1.0, -0.976923, 0.976923]</td>\n",
       "      <td>5.90909</td>\n",
       "      <td>6.01176</td>\n",
       "    </tr>\n",
       "    <tr>\n",
       "      <th>8</th>\n",
       "      <td>[1.0, -0.988372, 0.988372]</td>\n",
       "      <td>5.95385</td>\n",
       "      <td>6.00293</td>\n",
       "    </tr>\n",
       "    <tr>\n",
       "      <th>9</th>\n",
       "      <td>[1.0, -0.994163, 0.994163]</td>\n",
       "      <td>5.97674</td>\n",
       "      <td>6.00073</td>\n",
       "    </tr>\n",
       "    <tr>\n",
       "      <th>10</th>\n",
       "      <td>[1.0, -0.997076, 0.997076]</td>\n",
       "      <td>5.98833</td>\n",
       "      <td>6.00018</td>\n",
       "    </tr>\n",
       "  </tbody>\n",
       "</table>\n",
       "</div>"
      ],
      "text/plain": [
       "                   Eigenvector Eigenvalue Eigenvalue_Aitkens\n",
       "0                    [1, 0, 0]                              \n",
       "1           [1.0, -0.25, 0.25]          4                  0\n",
       "2             [1.0, -0.5, 0.5]        4.5            4.57143\n",
       "3             [1.0, -0.7, 0.7]          5               -inf\n",
       "4   [1.0, -0.833333, 0.833333]        5.4                  7\n",
       "5   [1.0, -0.911765, 0.911765]    5.66667                6.2\n",
       "6   [1.0, -0.954545, 0.954545]    5.82353            6.04762\n",
       "7   [1.0, -0.976923, 0.976923]    5.90909            6.01176\n",
       "8   [1.0, -0.988372, 0.988372]    5.95385            6.00293\n",
       "9   [1.0, -0.994163, 0.994163]    5.97674            6.00073\n",
       "10  [1.0, -0.997076, 0.997076]    5.98833            6.00018"
      ]
     },
     "execution_count": 27,
     "metadata": {},
     "output_type": "execute_result"
    }
   ],
   "source": [
    "powermethod.powermethod(B,x,maxIter=10)"
   ]
  },
  {
   "cell_type": "code",
   "execution_count": 28,
   "metadata": {
    "collapsed": false
   },
   "outputs": [
    {
     "name": "stdout",
     "output_type": "stream",
     "text": [
      "The maximum number of iterations (maxIter=10) reached.\n"
     ]
    },
    {
     "data": {
      "text/html": [
       "<div>\n",
       "<table border=\"1\" class=\"dataframe\">\n",
       "  <thead>\n",
       "    <tr style=\"text-align: right;\">\n",
       "      <th></th>\n",
       "      <th>Eigenvector</th>\n",
       "      <th>Eigenvalue</th>\n",
       "      <th>Eigenvalue_Aitkens</th>\n",
       "    </tr>\n",
       "  </thead>\n",
       "  <tbody>\n",
       "    <tr>\n",
       "      <th>0</th>\n",
       "      <td>[1, 0, 0]</td>\n",
       "      <td></td>\n",
       "      <td></td>\n",
       "    </tr>\n",
       "    <tr>\n",
       "      <th>1</th>\n",
       "      <td>[0.942809, -0.235702, 0.235702]</td>\n",
       "      <td>4</td>\n",
       "      <td>0</td>\n",
       "    </tr>\n",
       "    <tr>\n",
       "      <th>2</th>\n",
       "      <td>[0.816497, -0.408248, 0.408248]</td>\n",
       "      <td>5</td>\n",
       "      <td>5.33333</td>\n",
       "    </tr>\n",
       "    <tr>\n",
       "      <th>3</th>\n",
       "      <td>[0.710669, -0.497468, 0.497468]</td>\n",
       "      <td>5.66667</td>\n",
       "      <td>7</td>\n",
       "    </tr>\n",
       "    <tr>\n",
       "      <th>4</th>\n",
       "      <td>[0.646997, -0.539164, 0.539164]</td>\n",
       "      <td>5.90909</td>\n",
       "      <td>6.04762</td>\n",
       "    </tr>\n",
       "    <tr>\n",
       "      <th>5</th>\n",
       "      <td>[0.612836, -0.558763, 0.558763]</td>\n",
       "      <td>5.97674</td>\n",
       "      <td>6.00293</td>\n",
       "    </tr>\n",
       "    <tr>\n",
       "      <th>6</th>\n",
       "      <td>[0.595247, -0.56819, 0.56819]</td>\n",
       "      <td>5.99415</td>\n",
       "      <td>6.00018</td>\n",
       "    </tr>\n",
       "    <tr>\n",
       "      <th>7</th>\n",
       "      <td>[0.586336, -0.572805, 0.572805]</td>\n",
       "      <td>5.99854</td>\n",
       "      <td>6.00001</td>\n",
       "    </tr>\n",
       "    <tr>\n",
       "      <th>8</th>\n",
       "      <td>[0.581852, -0.575086, 0.575086]</td>\n",
       "      <td>5.99963</td>\n",
       "      <td>6</td>\n",
       "    </tr>\n",
       "    <tr>\n",
       "      <th>9</th>\n",
       "      <td>[0.579603, -0.57622, 0.57622]</td>\n",
       "      <td>5.99991</td>\n",
       "      <td>6</td>\n",
       "    </tr>\n",
       "    <tr>\n",
       "      <th>10</th>\n",
       "      <td>[0.578477, -0.576786, 0.576786]</td>\n",
       "      <td>5.99998</td>\n",
       "      <td>6</td>\n",
       "    </tr>\n",
       "  </tbody>\n",
       "</table>\n",
       "</div>"
      ],
      "text/plain": [
       "                        Eigenvector Eigenvalue Eigenvalue_Aitkens\n",
       "0                         [1, 0, 0]                              \n",
       "1   [0.942809, -0.235702, 0.235702]          4                  0\n",
       "2   [0.816497, -0.408248, 0.408248]          5            5.33333\n",
       "3   [0.710669, -0.497468, 0.497468]    5.66667                  7\n",
       "4   [0.646997, -0.539164, 0.539164]    5.90909            6.04762\n",
       "5   [0.612836, -0.558763, 0.558763]    5.97674            6.00293\n",
       "6     [0.595247, -0.56819, 0.56819]    5.99415            6.00018\n",
       "7   [0.586336, -0.572805, 0.572805]    5.99854            6.00001\n",
       "8   [0.581852, -0.575086, 0.575086]    5.99963                  6\n",
       "9     [0.579603, -0.57622, 0.57622]    5.99991                  6\n",
       "10  [0.578477, -0.576786, 0.576786]    5.99998                  6"
      ]
     },
     "execution_count": 28,
     "metadata": {},
     "output_type": "execute_result"
    }
   ],
   "source": [
    "powermethod.symmetric_powermethod(B,x,maxIter=10)"
   ]
  },
  {
   "cell_type": "code",
   "execution_count": null,
   "metadata": {
    "collapsed": true
   },
   "outputs": [],
   "source": []
  },
  {
   "cell_type": "code",
   "execution_count": null,
   "metadata": {
    "collapsed": true
   },
   "outputs": [],
   "source": []
  }
 ],
 "metadata": {
  "kernelspec": {
   "display_name": "Python 3",
   "language": "python",
   "name": "python3"
  },
  "language_info": {
   "codemirror_mode": {
    "name": "ipython",
    "version": 3
   },
   "file_extension": ".py",
   "mimetype": "text/x-python",
   "name": "python",
   "nbconvert_exporter": "python",
   "pygments_lexer": "ipython3",
   "version": "3.5.1"
  }
 },
 "nbformat": 4,
 "nbformat_minor": 0
}
