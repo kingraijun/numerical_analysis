{
 "cells": [
  {
   "cell_type": "markdown",
   "metadata": {},
   "source": [
    "# Chapter 9: Approximating Eigenvalues\n",
    "\n",
    "## 9.4 Householder's Method"
   ]
  },
  {
   "cell_type": "code",
   "execution_count": 1,
   "metadata": {
    "collapsed": false
   },
   "outputs": [],
   "source": [
    "import numpy as np\n",
    "from copy import deepcopy"
   ]
  },
  {
   "cell_type": "code",
   "execution_count": 3,
   "metadata": {
    "collapsed": false
   },
   "outputs": [],
   "source": [
    "def householder(A, printAll=False):  \n",
    "    n = len(A)    \n",
    "    A_list = [A.astype(float)]\n",
    "    isSymmetric = True\n",
    "    \n",
    "    if not np.allclose(A.transpose(), A):\n",
    "        print(\"Note: Matrix is not symmetric.\")\n",
    "        isSymmetric = False\n",
    "    \n",
    "    for k in range(n-2):\n",
    "        \n",
    "        #Initialize variables\n",
    "        v = np.zeros((n,1))\n",
    "        u = np.zeros((n,1))\n",
    "        z = np.zeros((n,1))\n",
    "        \n",
    "        if not isSymmetric:\n",
    "            y = np.zeros((n,1))\n",
    "        \n",
    "        A_current = deepcopy(A_list[k])\n",
    "        A_next = deepcopy(A_list[k])\n",
    "\n",
    "        q = np.dot(A_current[k+1:,k],A_current[k+1:,k])\n",
    "\n",
    "        if A_current[k+1,k] == 0:\n",
    "            alpha = -np.sqrt(q)\n",
    "        else:\n",
    "            alpha = -(np.sqrt(q)*A_current[k+1,k])/(np.abs(A_current[k+1,k]))\n",
    "\n",
    "        RSQ = alpha**2 - alpha*A_current[k+1,k]\n",
    "\n",
    "        v[k+1] = A_current[k+1,k] - alpha\n",
    "        v[k+2:] = A_current[k+2:,k:k+1]\n",
    "\n",
    "        if isSymmetric:\n",
    "            u = (1/RSQ)*np.dot(A_current,v)\n",
    "        else:\n",
    "            u = (1/RSQ)*np.dot(A_current[:,k+1:],v[k+1:])\n",
    "            y = (1/RSQ)*np.dot(A_current[k+1:,:].T,v[k+1:])\n",
    "        \n",
    "        PROD = np.dot(v.T,u)\n",
    "\n",
    "        if isSymmetric:\n",
    "            z = u - (1/(2*RSQ))*np.dot(v.T,u)*v\n",
    "        else:\n",
    "            z = u - (PROD/RSQ)*v\n",
    "            \n",
    "        if isSymmetric:\n",
    "            A_next = A_current - np.dot(v,z.T) - np.dot(z,v.T)\n",
    "            A_next[-1,-1] = A_current[-1,-1] - 2*v[-1]*z[-1]\n",
    "            \n",
    "            A_next[k,k+2:] = np.zeros(n-k-2)\n",
    "            A_next[k+2:,k] = np.zeros(n-k-2)\n",
    "\n",
    "            A_next[k+1,k] = A_current[k+1,k] - v[k+1]*z[k]\n",
    "            A_next[k,k+1] = A_next[k+1,k]\n",
    "            \n",
    "        else:\n",
    "            A_next[:k+1,k+1:] = A_current[:k+1,k+1:] - np.dot(z[:k+1],v[k+1:].T)\n",
    "            A_next[k+1:,:k+1] = A_current[k+1:,:k+1] - np.dot(v[k+1:],y[:k+1].T)\n",
    "            \n",
    "            A_next[k+1:,k+1:] = A_current[k+1:,k+1:] - np.dot(z[k+1:],v[k+1:].T) - np.dot(v[k+1:],y[k+1:].T)\n",
    "            \n",
    "        A_list.append(A_next)\n",
    "    \n",
    "    if printAll:\n",
    "        return np.around(A_list, decimals=6) \n",
    "    else:\n",
    "        return np.around(A_list[-1], decimals=6) "
   ]
  },
  {
   "cell_type": "markdown",
   "metadata": {},
   "source": [
    "### Symmetric Matrix"
   ]
  },
  {
   "cell_type": "code",
   "execution_count": 4,
   "metadata": {
    "collapsed": false
   },
   "outputs": [
    {
     "data": {
      "text/plain": [
       "array([[[ 4.      ,  1.      , -2.      ,  2.      ],\n",
       "        [ 1.      ,  2.      ,  0.      ,  1.      ],\n",
       "        [-2.      ,  0.      ,  3.      , -2.      ],\n",
       "        [ 2.      ,  1.      , -2.      , -1.      ]],\n",
       "\n",
       "       [[ 4.      , -3.      ,  0.      ,  0.      ],\n",
       "        [-3.      ,  3.333333,  1.      ,  1.333333],\n",
       "        [ 0.      ,  1.      ,  1.666667, -1.333333],\n",
       "        [ 0.      ,  1.333333, -1.333333, -1.      ]],\n",
       "\n",
       "       [[ 4.      , -3.      ,  0.      ,  0.      ],\n",
       "        [-3.      ,  3.333333, -1.666667,  0.      ],\n",
       "        [ 0.      , -1.666667, -1.32    ,  0.906667],\n",
       "        [ 0.      ,  0.      ,  0.906667,  1.986667]]])"
      ]
     },
     "execution_count": 4,
     "metadata": {},
     "output_type": "execute_result"
    }
   ],
   "source": [
    "A = np.array([\n",
    "        [4,1,-2,2],\n",
    "        [1,2,0,1],\n",
    "        [-2,0,3,-2],\n",
    "        [2,1,-2,-1]\n",
    "    ])\n",
    "\n",
    "householder(A, printAll=True)"
   ]
  },
  {
   "cell_type": "code",
   "execution_count": 100,
   "metadata": {
    "collapsed": false,
    "scrolled": true
   },
   "outputs": [
    {
     "data": {
      "text/plain": [
       "array([[ 12.      , -10.77033 ,   0.      ],\n",
       "       [-10.77033 ,   3.862069,   5.344828],\n",
       "       [  0.      ,   5.344828,   7.137931]])"
      ]
     },
     "execution_count": 100,
     "metadata": {},
     "output_type": "execute_result"
    }
   ],
   "source": [
    "E1a = np.array([\n",
    "        [12,10,4],\n",
    "        [10,8,-5],\n",
    "        [4,-5,3]\n",
    "    ])\n",
    "\n",
    "householder(E1a)"
   ]
  },
  {
   "cell_type": "code",
   "execution_count": 101,
   "metadata": {
    "collapsed": false,
    "scrolled": true
   },
   "outputs": [
    {
     "data": {
      "text/plain": [
       "array([[ 2.      ,  1.414214,  0.      ],\n",
       "       [ 1.414214,  1.      , -0.      ],\n",
       "       [ 0.      , -0.      ,  3.      ]])"
      ]
     },
     "execution_count": 101,
     "metadata": {},
     "output_type": "execute_result"
    }
   ],
   "source": [
    "E1b = np.array([\n",
    "        [2,-1,-1],\n",
    "        [-1,2,-1],\n",
    "        [-1,-1,2]\n",
    "    ])\n",
    "\n",
    "householder(E1b)"
   ]
  },
  {
   "cell_type": "code",
   "execution_count": 102,
   "metadata": {
    "collapsed": false,
    "scrolled": true
   },
   "outputs": [
    {
     "data": {
      "text/plain": [
       "array([[ 1.      , -1.414214,  0.      ],\n",
       "       [-1.414214,  1.      , -0.      ],\n",
       "       [ 0.      , -0.      ,  1.      ]])"
      ]
     },
     "execution_count": 102,
     "metadata": {},
     "output_type": "execute_result"
    }
   ],
   "source": [
    "E1c = np.array([\n",
    "        [1,1,1],\n",
    "        [1,1,0],\n",
    "        [1,0,1]\n",
    "    ])\n",
    "\n",
    "householder(E1c)"
   ]
  },
  {
   "cell_type": "code",
   "execution_count": 103,
   "metadata": {
    "collapsed": false,
    "scrolled": false
   },
   "outputs": [
    {
     "data": {
      "text/plain": [
       "array([[ 4.75    , -2.263846,  0.      ],\n",
       "       [-2.263846,  4.47561 , -1.219512],\n",
       "       [ 0.      , -1.219512,  5.02439 ]])"
      ]
     },
     "execution_count": 103,
     "metadata": {},
     "output_type": "execute_result"
    }
   ],
   "source": [
    "E1d = np.array([\n",
    "        [4.75, 2.25, -0.25000001],\n",
    "        [2.25, 4.75, 1.25],\n",
    "        [-0.25, 1.25, 4.75]\n",
    "    ])\n",
    "\n",
    "householder(E1d)"
   ]
  },
  {
   "cell_type": "markdown",
   "metadata": {},
   "source": [
    "### Non-symmetric Matrix"
   ]
  },
  {
   "cell_type": "code",
   "execution_count": 107,
   "metadata": {
    "collapsed": false,
    "scrolled": true
   },
   "outputs": [
    {
     "name": "stdout",
     "output_type": "stream",
     "text": [
      "Note: Matrix is not symmetric.\n"
     ]
    },
    {
     "data": {
      "text/plain": [
       "array([[ 2.      ,  2.828427,  1.414214],\n",
       "       [-2.828427,  1.      ,  2.      ],\n",
       "       [-0.      ,  2.      ,  3.      ]])"
      ]
     },
     "execution_count": 107,
     "metadata": {},
     "output_type": "execute_result"
    }
   ],
   "source": [
    "E3a = np.array([\n",
    "        [2,-1,3],\n",
    "        [2,0,1],\n",
    "        [-2,1,4]\n",
    "    ])\n",
    "\n",
    "householder(E3a)"
   ]
  },
  {
   "cell_type": "code",
   "execution_count": 106,
   "metadata": {
    "collapsed": false,
    "scrolled": true
   },
   "outputs": [
    {
     "name": "stdout",
     "output_type": "stream",
     "text": [
      "Note: Matrix is not symmetric.\n"
     ]
    },
    {
     "data": {
      "text/plain": [
       "array([[-1.      , -3.605551, -0.      ],\n",
       "       [-3.605551, -0.230769,  3.153846],\n",
       "       [-0.      ,  0.153846,  2.230769]])"
      ]
     },
     "execution_count": 106,
     "metadata": {},
     "output_type": "execute_result"
    }
   ],
   "source": [
    "E3b = np.array([\n",
    "        [-1,2,3],\n",
    "        [2,3,-2,],\n",
    "        [3,1,-1]\n",
    "    ])\n",
    "\n",
    "householder(E3b)"
   ]
  },
  {
   "cell_type": "code",
   "execution_count": 104,
   "metadata": {
    "collapsed": false,
    "scrolled": true
   },
   "outputs": [
    {
     "name": "stdout",
     "output_type": "stream",
     "text": [
      "Note: Matrix is not symmetric.\n"
     ]
    },
    {
     "data": {
      "text/plain": [
       "array([[ 5.      ,  4.949747, -1.432078, -1.564977],\n",
       "       [-1.414214, -2.      , -2.485551,  1.822645],\n",
       "       [-0.      , -5.43139 , -1.423729, -2.648654],\n",
       "       [-0.      ,  0.      ,  1.593986,  5.423729]])"
      ]
     },
     "execution_count": 104,
     "metadata": {},
     "output_type": "execute_result"
    }
   ],
   "source": [
    "E3c = np.array([\n",
    "        [5,-2,-3,4],\n",
    "        [0,4,2,-1],\n",
    "        [1,3,-5,2],\n",
    "        [-1,4,0,3]\n",
    "    ])\n",
    "\n",
    "householder(E3c)"
   ]
  },
  {
   "cell_type": "code",
   "execution_count": 105,
   "metadata": {
    "collapsed": false,
    "scrolled": true
   },
   "outputs": [
    {
     "name": "stdout",
     "output_type": "stream",
     "text": [
      "Note: Matrix is not symmetric.\n"
     ]
    },
    {
     "data": {
      "text/plain": [
       "array([[ 4.      ,  1.732051,  0.      ,  0.      ],\n",
       "       [ 1.732051,  2.333333,  0.235702,  0.408248],\n",
       "       [ 0.      , -0.471405,  4.666667, -0.57735 ],\n",
       "       [ 0.      ,  0.      , -0.      ,  5.      ]])"
      ]
     },
     "execution_count": 105,
     "metadata": {},
     "output_type": "execute_result"
    }
   ],
   "source": [
    "E3d = np.array([\n",
    "        [4.,-1,-1,-1],\n",
    "        [-1,4,0,-1],\n",
    "        [-1,-1,4,-1],\n",
    "        [-1,-1,-1,4]\n",
    "    ])\n",
    "\n",
    "householder(E3d)"
   ]
  },
  {
   "cell_type": "code",
   "execution_count": null,
   "metadata": {
    "collapsed": true
   },
   "outputs": [],
   "source": []
  },
  {
   "cell_type": "code",
   "execution_count": null,
   "metadata": {
    "collapsed": true
   },
   "outputs": [],
   "source": []
  },
  {
   "cell_type": "code",
   "execution_count": null,
   "metadata": {
    "collapsed": true
   },
   "outputs": [],
   "source": []
  }
 ],
 "metadata": {
  "kernelspec": {
   "display_name": "Python 3",
   "language": "python",
   "name": "python3"
  },
  "language_info": {
   "codemirror_mode": {
    "name": "ipython",
    "version": 3
   },
   "file_extension": ".py",
   "mimetype": "text/x-python",
   "name": "python",
   "nbconvert_exporter": "python",
   "pygments_lexer": "ipython3",
   "version": "3.5.1"
  }
 },
 "nbformat": 4,
 "nbformat_minor": 0
}
